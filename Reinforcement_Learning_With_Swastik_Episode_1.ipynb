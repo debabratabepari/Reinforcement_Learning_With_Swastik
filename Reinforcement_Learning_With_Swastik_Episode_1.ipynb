{
  "nbformat": 4,
  "nbformat_minor": 0,
  "metadata": {
    "colab": {
      "name": "Reinforcement_Learning_With_Swastik_Episode_1.ipynb",
      "provenance": [],
      "collapsed_sections": [],
      "authorship_tag": "ABX9TyO2I6taM2fa5hlv1e5r48RX",
      "include_colab_link": true
    },
    "kernelspec": {
      "name": "python3",
      "display_name": "Python 3"
    },
    "accelerator": "GPU"
  },
  "cells": [
    {
      "cell_type": "markdown",
      "metadata": {
        "id": "view-in-github",
        "colab_type": "text"
      },
      "source": [
        "<a href=\"https://colab.research.google.com/github/swastiknath/Reinforcement_Learning_With_Swastik/blob/master/Reinforcement_Learning_With_Swastik_Episode_1.ipynb\" target=\"_parent\"><img src=\"https://colab.research.google.com/assets/colab-badge.svg\" alt=\"Open In Colab\"/></a>"
      ]
    },
    {
      "cell_type": "code",
      "metadata": {
        "id": "BjZVfggKTf-v",
        "colab_type": "code",
        "outputId": "830ea46d-b0ad-4fe3-c24b-fd9db18c0793",
        "colab": {
          "base_uri": "https://localhost:8080/",
          "height": 218
        }
      },
      "source": [
        "!pip install pyvirtualdisplay\n",
        "!apt-get install -y ffmpeg xvfb python-opengl"
      ],
      "execution_count": 0,
      "outputs": [
        {
          "output_type": "stream",
          "text": [
            "Requirement already satisfied: pyvirtualdisplay in /usr/local/lib/python3.6/dist-packages (0.2.5)\n",
            "Requirement already satisfied: EasyProcess in /usr/local/lib/python3.6/dist-packages (from pyvirtualdisplay) (0.2.10)\n",
            "Reading package lists... Done\n",
            "Building dependency tree       \n",
            "Reading state information... Done\n",
            "python-opengl is already the newest version (3.1.0+dfsg-1).\n",
            "ffmpeg is already the newest version (7:3.4.6-0ubuntu0.18.04.1).\n",
            "xvfb is already the newest version (2:1.19.6-1ubuntu4.3).\n",
            "The following package was automatically installed and is no longer required:\n",
            "  libnvidia-common-430\n",
            "Use 'apt autoremove' to remove it.\n",
            "0 upgraded, 0 newly installed, 0 to remove and 94 not upgraded.\n"
          ],
          "name": "stdout"
        }
      ]
    },
    {
      "cell_type": "code",
      "metadata": {
        "id": "_QUxC-esT1ua",
        "colab_type": "code",
        "outputId": "f0c8f43f-bd9c-4725-d6af-460cdbf78cf6",
        "colab": {
          "base_uri": "https://localhost:8080/",
          "height": 554
        }
      },
      "source": [
        "!apt-get update\n",
        "!apt-get install cmake\n",
        "!pip install --upgrade setuptools\n",
        "!pip install ez_setup\n",
        "!pip install gym[atari]"
      ],
      "execution_count": 0,
      "outputs": [
        {
          "output_type": "stream",
          "text": [
            "\r0% [Working]\r            \rIgn:1 https://developer.download.nvidia.com/compute/cuda/repos/ubuntu1804/x86_64  InRelease\n",
            "\r0% [Connecting to archive.ubuntu.com (91.189.88.24)] [Waiting for headers] [Con\r                                                                               \rIgn:2 https://developer.download.nvidia.com/compute/machine-learning/repos/ubuntu1804/x86_64  InRelease\n",
            "\r0% [Connecting to archive.ubuntu.com (91.189.88.24)] [Waiting for headers] [Con\r                                                                               \rHit:3 https://developer.download.nvidia.com/compute/cuda/repos/ubuntu1804/x86_64  Release\n",
            "\r0% [Connecting to archive.ubuntu.com (91.189.88.24)] [Waiting for headers] [Con\r0% [Release.gpg gpgv 564 B] [Connecting to archive.ubuntu.com (91.189.88.24)] [\r                                                                               \rHit:4 https://developer.download.nvidia.com/compute/machine-learning/repos/ubuntu1804/x86_64  Release\n",
            "\r0% [Release.gpg gpgv 564 B] [Waiting for headers] [Waiting for headers] [Connec\r                                                                               \rHit:5 http://security.ubuntu.com/ubuntu bionic-security InRelease\n",
            "\r0% [Release.gpg gpgv 564 B] [Waiting for headers] [Connecting to cloud.r-projec\r                                                                               \rHit:6 http://ppa.launchpad.net/graphics-drivers/ppa/ubuntu bionic InRelease\n",
            "\r0% [Release.gpg gpgv 564 B] [Waiting for headers] [Connecting to cloud.r-projec\r                                                                               \rHit:7 http://archive.ubuntu.com/ubuntu bionic InRelease\n",
            "\r0% [Release.gpg gpgv 564 B] [Waiting for headers] [Connecting to cloud.r-projec\r0% [Waiting for headers] [Connecting to cloud.r-project.org] [Connecting to ppa\r0% [Release.gpg gpgv 564 B] [Waiting for headers] [Connecting to cloud.r-projec\r                                                                               \rHit:9 https://cloud.r-project.org/bin/linux/ubuntu bionic-cran35/ InRelease\n",
            "\r0% [Release.gpg gpgv 564 B] [Waiting for headers] [Connecting to ppa.launchpad.\r                                                                               \rHit:10 http://archive.ubuntu.com/ubuntu bionic-updates InRelease\n",
            "\r                                                                               \r0% [Release.gpg gpgv 564 B] [Connecting to ppa.launchpad.net (91.189.95.83)]\r                                                                            \r0% [Waiting for headers] [Waiting for headers]\r0% [5 InRelease gpgv 88.7 kB] [Waiting for headers] [Waiting for headers]\r                                                                         \rHit:12 http://archive.ubuntu.com/ubuntu bionic-backports InRelease\n",
            "Hit:13 http://ppa.launchpad.net/marutter/c2d4u3.5/ubuntu bionic InRelease\n",
            "Reading package lists... Done\n",
            "Reading package lists... Done\n",
            "Building dependency tree       \n",
            "Reading state information... Done\n",
            "cmake is already the newest version (3.10.2-1ubuntu2.18.04.1).\n",
            "The following package was automatically installed and is no longer required:\n",
            "  libnvidia-common-430\n",
            "Use 'apt autoremove' to remove it.\n",
            "0 upgraded, 0 newly installed, 0 to remove and 94 not upgraded.\n",
            "Requirement already up-to-date: setuptools in /usr/local/lib/python3.6/dist-packages (45.2.0)\n",
            "Requirement already satisfied: ez_setup in /usr/local/lib/python3.6/dist-packages (0.9)\n",
            "Requirement already satisfied: gym[atari] in /usr/local/lib/python3.6/dist-packages (0.15.6)\n",
            "Requirement already satisfied: cloudpickle~=1.2.0 in /usr/local/lib/python3.6/dist-packages (from gym[atari]) (1.2.2)\n",
            "Requirement already satisfied: numpy>=1.10.4 in /usr/local/lib/python3.6/dist-packages (from gym[atari]) (1.17.5)\n",
            "Requirement already satisfied: scipy in /usr/local/lib/python3.6/dist-packages (from gym[atari]) (1.4.1)\n",
            "Requirement already satisfied: pyglet<=1.5.0,>=1.4.0 in /usr/local/lib/python3.6/dist-packages (from gym[atari]) (1.4.10)\n",
            "Requirement already satisfied: six in /usr/local/lib/python3.6/dist-packages (from gym[atari]) (1.12.0)\n",
            "Requirement already satisfied: atari-py~=0.2.0; extra == \"atari\" in /usr/local/lib/python3.6/dist-packages (from gym[atari]) (0.2.6)\n",
            "Requirement already satisfied: Pillow; extra == \"atari\" in /usr/local/lib/python3.6/dist-packages (from gym[atari]) (6.2.2)\n",
            "Requirement already satisfied: opencv-python; extra == \"atari\" in /usr/local/lib/python3.6/dist-packages (from gym[atari]) (4.1.2.30)\n",
            "Requirement already satisfied: future in /usr/local/lib/python3.6/dist-packages (from pyglet<=1.5.0,>=1.4.0->gym[atari]) (0.16.0)\n"
          ],
          "name": "stdout"
        }
      ]
    },
    {
      "cell_type": "code",
      "metadata": {
        "id": "khXF_wyaUTCB",
        "colab_type": "code",
        "colab": {}
      },
      "source": [
        "import gym\n",
        "from gym import logger as logstat\n",
        "logstat.set_level(gym.logger.INFO)\n",
        "import tensorflow\n",
        "import matplotlib.pyplot as plt\n",
        "import matplotlib\n",
        "import numpy as np\n",
        "from gym.wrappers import Monitor\n",
        "import math\n",
        "import glob\n",
        "import io\n",
        "import base64\n",
        "from IPython.display import HTML\n",
        "\n",
        "from IPython import display as ipythondisplay"
      ],
      "execution_count": 0,
      "outputs": []
    },
    {
      "cell_type": "code",
      "metadata": {
        "id": "hL6ZsSfCV7VP",
        "colab_type": "code",
        "outputId": "a0beb14d-1133-43d0-9019-5b9b4fa2f09a",
        "colab": {
          "base_uri": "https://localhost:8080/",
          "height": 70
        }
      },
      "source": [
        "from pyvirtualdisplay import Display\n",
        "display = Display(visible=0, size=(1400,900))\n",
        "display.start()"
      ],
      "execution_count": 0,
      "outputs": [
        {
          "output_type": "stream",
          "text": [
            "xdpyinfo was not found, X start can not be checked! Please install xdpyinfo!\n"
          ],
          "name": "stderr"
        },
        {
          "output_type": "execute_result",
          "data": {
            "text/plain": [
              "<Display cmd_param=['Xvfb', '-br', '-nolisten', 'tcp', '-screen', '0', '1400x900x24', ':1001'] cmd=['Xvfb', '-br', '-nolisten', 'tcp', '-screen', '0', '1400x900x24', ':1001'] oserror=None return_code=None stdout=\"None\" stderr=\"None\" timeout_happened=False>"
            ]
          },
          "metadata": {
            "tags": []
          },
          "execution_count": 7
        }
      ]
    },
    {
      "cell_type": "code",
      "metadata": {
        "id": "YgnatMA_XpSv",
        "colab_type": "code",
        "colab": {}
      },
      "source": [
        "def videoPlayer():\n",
        "  mp4s = glob.glob('video/*mp4')\n",
        "  if len(mp4s) > 0:\n",
        "    mp4 = mp4s[0]\n",
        "    video = io.open(mp4, 'r+b').read()\n",
        "    encoded = base64.b64encode(video)\n",
        "    ipythondisplay.display(\n",
        "        HTML(data='''<video alt=\"video\" autoplay \n",
        "                loop controls style=\"height: 500px;\">\n",
        "                <source src=\"data:video/mp4;base64,{0}\" type=\"video/mp4\" />\n",
        "             </video>'''.format(encoded.decode('ascii'))))\n",
        "  else:\n",
        "    print(\"Could not find the Video File\")\n",
        "\n",
        "def wrap_env(env):\n",
        "  env = Monitor(env, './video', force=True)\n",
        "  return env"
      ],
      "execution_count": 0,
      "outputs": []
    },
    {
      "cell_type": "code",
      "metadata": {
        "id": "fsAmMN4JU7Vw",
        "colab_type": "code",
        "outputId": "acd2d22e-6139-4443-bc75-23724dd7151a",
        "colab": {
          "base_uri": "https://localhost:8080/",
          "height": 538
        }
      },
      "source": [
        "if __name__ == \"__main__\":\n",
        "  env = wrap_env(gym.make(\"CartPole-v0\"))\n",
        "  total_reward = 0.0\n",
        "  total_steps = 0\n",
        "  obs = env.reset()\n",
        "\n",
        "  while True:\n",
        "    action = env.action_space.sample()\n",
        "    obs, reward, is_done, info = env.step(action)\n",
        "    total_reward += reward;\n",
        "    total_steps += 1;\n",
        "    if is_done:\n",
        "      break;\n",
        "  print(\"Epidose done in %d steps, with the random reward accumulating to: %d\" % (total_steps, total_reward))\n",
        "\n",
        "  env.close()\n",
        "  videoPlayer()"
      ],
      "execution_count": 0,
      "outputs": [
        {
          "output_type": "stream",
          "text": [
            "Epidose done in 26 steps, with the random reward accumulating to: 26\n"
          ],
          "name": "stdout"
        },
        {
          "output_type": "display_data",
          "data": {
            "text/html": [
              "<video alt=\"video\" autoplay \n",
              "                loop controls style=\"height: 500px;\">\n",
              "                <source src=\"data:video/mp4;base64,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\" type=\"video/mp4\" />\n",
              "             </video>"
            ],
            "text/plain": [
              "<IPython.core.display.HTML object>"
            ]
          },
          "metadata": {
            "tags": []
          }
        }
      ]
    },
    {
      "cell_type": "code",
      "metadata": {
        "id": "Ye7cPk6HZiPY",
        "colab_type": "code",
        "colab": {}
      },
      "source": [
        ""
      ],
      "execution_count": 0,
      "outputs": []
    }
  ]
}